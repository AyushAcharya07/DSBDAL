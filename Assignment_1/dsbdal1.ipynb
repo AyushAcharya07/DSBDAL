{
 "cells": [
  {
   "cell_type": "code",
   "execution_count": 2,
   "id": "97c662f0-cadc-4f6d-a69d-9d97e9113797",
   "metadata": {},
   "outputs": [],
   "source": [
    "import pandas as pd\n",
    "import numpy as np\n",
    "import matplotlib.pyplot as plt\n",
    "from datetime import datetime\n",
    "import seaborn as sns\n",
    "dataset=pd.read_csv('aqi.csv')\n",
    "df=pd.DataFrame(dataset)\n",
    "df.rename(columns={\"Mounths\":\"Months\"},inplace=True)\n",
    "df.rename(columns={\"PM10 in æg/m3\":\"PM10\"},inplace=True)\n",
    "df.rename(columns={\"SO2 in æg/m3\":\"SO2\"},inplace=True)\n",
    "df.rename(columns={\"NOx  in æg/m3\":\"NOx\"},inplace=True)\n",
    "df.rename(columns={\" PM2.5  in æg/m3\":\"PM2.5\"},inplace=True)\n",
    "df.rename(columns={\"Ammonia - NH3  in æg/m3\":\"Ammonia\"},inplace=True)\n",
    "df.rename(columns={\"O3   in æg/m3\":\"O3\"},inplace=True)\n",
    "df.rename(columns={\"CO  in mg/m3\":\"CO\"},inplace=True)\n",
    "df.rename(columns={\" Benzene  in æg/m3\":\"Benzene\"},inplace=True)"
   ]
  },
  {
   "cell_type": "code",
   "execution_count": 3,
   "id": "69164751",
   "metadata": {},
   "outputs": [
    {
     "name": "stdout",
     "output_type": "stream",
     "text": [
      "Printing first 10 rows of the dataset:-\n",
      "\n",
      "   Id  Months   PM10   SO2   NOx  PM2.5  Ammonia     O3   CO  Benzene    AQI\n",
      "0   1  Jan-17  174.0  26.4  35.0     79     25.0  107.6  0.9      0.7  149.0\n",
      "1   2  Feb-17  143.0  35.1  40.3     75     31.0  103.0  0.9      0.9  129.0\n",
      "2   3  Mar-17  142.0  32.1  30.9     59     26.0   80.7  0.8      0.5  128.0\n",
      "3   4  Apr-17  117.0  50.9  36.3     75     36.0   79.5  0.9      0.7  111.0\n",
      "4   5  May-17    NaN  41.6  25.2     53     28.0   70.0  0.5      0.5    NaN\n",
      "5   6  Jun-17    NaN  35.5  21.2     25     26.0   38.8  0.3      0.6    NaN\n",
      "6   7  Jul-17  111.0  38.9  21.5     29     30.0   24.4  0.3      0.7  106.7\n",
      "7   8  Aug-17   78.0  36.0  18.4     35     23.0   22.5  0.4      0.5   78.3\n",
      "8   9  Sep-17   86.0  30.0  22.3     39     20.0   35.2  0.4      0.4   86.0\n",
      "9  10  Oct-17  146.0  37.1  32.6     63     23.0   52.8  0.6      0.5  130.0\n"
     ]
    }
   ],
   "source": [
    "print(\"Printing first 10 rows of the dataset:-\\n\")\n",
    "print(df.head(10)) "
   ]
  },
  {
   "cell_type": "code",
   "execution_count": 4,
   "id": "9f9f7563-6d38-4f49-9b50-af504c008b54",
   "metadata": {},
   "outputs": [
    {
     "name": "stdout",
     "output_type": "stream",
     "text": [
      "**************************************************\n",
      "Identifying NULL values in the dataset:-\n",
      "\n",
      "       Id  Months   PM10    SO2    NOx  PM2.5  Ammonia     O3     CO  Benzene  \\\n",
      "0   False   False  False  False  False  False    False  False  False    False   \n",
      "1   False   False  False  False  False  False    False  False  False    False   \n",
      "2   False   False  False  False  False  False    False  False  False    False   \n",
      "3   False   False  False  False  False  False    False  False  False    False   \n",
      "4   False   False   True  False  False  False    False  False  False    False   \n",
      "..    ...     ...    ...    ...    ...    ...      ...    ...    ...      ...   \n",
      "67  False   False  False  False  False  False    False  False  False    False   \n",
      "68  False   False  False  False  False  False    False  False  False    False   \n",
      "69  False   False  False  False  False  False    False  False  False    False   \n",
      "70  False   False  False  False  False  False    False  False  False    False   \n",
      "71  False   False  False  False  False  False    False  False  False    False   \n",
      "\n",
      "      AQI  \n",
      "0   False  \n",
      "1   False  \n",
      "2   False  \n",
      "3   False  \n",
      "4    True  \n",
      "..    ...  \n",
      "67  False  \n",
      "68  False  \n",
      "69  False  \n",
      "70  False  \n",
      "71  False  \n",
      "\n",
      "[72 rows x 11 columns]\n",
      "**************************************************\n"
     ]
    }
   ],
   "source": [
    "print('*'*50)\n",
    "print(\"Identifying NULL values in the dataset:-\\n\")\n",
    "print(df.isnull()) \n",
    "print('*'*50)"
   ]
  },
  {
   "cell_type": "code",
   "execution_count": 5,
   "id": "30664285",
   "metadata": {},
   "outputs": [
    {
     "name": "stdout",
     "output_type": "stream",
     "text": [
      "**************************************************\n",
      "Describing the dataset:-\n",
      "\n",
      "             Id        PM10        SO2        NOx      PM2.5    Ammonia  \\\n",
      "count  72.00000   66.000000  71.000000  70.000000  72.000000  72.000000   \n",
      "mean   36.50000  109.393939  16.650704  30.171429  46.722222  23.997222   \n",
      "std    20.92845   25.271376   9.783746   4.150088  20.224251   5.824450   \n",
      "min     1.00000   76.000000   4.000000  18.400000  12.000000  11.000000   \n",
      "25%    18.75000   90.000000   9.900000  28.025000  27.000000  20.000000   \n",
      "50%    36.50000  104.000000  14.000000  29.700000  47.000000  23.000000   \n",
      "75%    54.25000  128.000000  19.200000  32.550000  63.000000  28.000000   \n",
      "max    72.00000  178.000000  50.900000  40.300000  87.000000  37.000000   \n",
      "\n",
      "               O3         CO   Benzene         AQI  \n",
      "count   72.000000  72.000000  72.00000   67.000000  \n",
      "mean    27.790278   0.549722   0.22500  105.571642  \n",
      "std     22.585906   0.238764   0.19307   22.762574  \n",
      "min      2.400000   0.200000   0.00000   58.000000  \n",
      "25%     12.475000   0.400000   0.10000   91.300000  \n",
      "50%     20.750000   0.500000   0.20000  103.500000  \n",
      "75%     35.550000   0.647500   0.30000  119.500000  \n",
      "max    107.600000   1.520000   0.90000  166.000000  \n"
     ]
    }
   ],
   "source": [
    "print('*'*50)\n",
    "print(\"Describing the dataset:-\\n\")\n",
    "print(df.describe()) "
   ]
  },
  {
   "cell_type": "code",
   "execution_count": 6,
   "id": "c0c1f906",
   "metadata": {},
   "outputs": [
    {
     "name": "stdout",
     "output_type": "stream",
     "text": [
      "**************************************************\n",
      "Datatypes of the datasets:-\n",
      "\n",
      "Id           int64\n",
      "Months      object\n",
      "PM10       float64\n",
      "SO2        float64\n",
      "NOx        float64\n",
      "PM2.5        int64\n",
      "Ammonia    float64\n",
      "O3         float64\n",
      "CO         float64\n",
      "Benzene    float64\n",
      "AQI        float64\n",
      "dtype: object\n"
     ]
    }
   ],
   "source": [
    "print('*'*50)\n",
    "print(\"Datatypes of the datasets:-\\n\")\n",
    "print(df.dtypes) "
   ]
  },
  {
   "cell_type": "code",
   "execution_count": 7,
   "id": "f7e30a23",
   "metadata": {},
   "outputs": [
    {
     "name": "stdout",
     "output_type": "stream",
     "text": [
      "**************************************************\n",
      "Total no. of rows and columns :-\n",
      "\n",
      "(72, 11)\n"
     ]
    }
   ],
   "source": [
    "print('*'*50)\n",
    "print(\"Total no. of rows and columns :-\\n\")\n",
    "print(df.shape) "
   ]
  },
  {
   "cell_type": "code",
   "execution_count": 8,
   "id": "ee96d2d2",
   "metadata": {},
   "outputs": [
    {
     "name": "stdout",
     "output_type": "stream",
     "text": [
      "**************************************************\n",
      "Total no. of elements in dataset:-\n",
      "\n",
      "792\n"
     ]
    }
   ],
   "source": [
    "print('*'*50)\n",
    "print(\"Total no. of elements in dataset:-\\n\")\n",
    "print(df.size) "
   ]
  },
  {
   "cell_type": "code",
   "execution_count": 9,
   "id": "fa303632",
   "metadata": {},
   "outputs": [
    {
     "name": "stdout",
     "output_type": "stream",
     "text": [
      "************************************************** \n",
      "\n",
      "\n",
      "Total no. of Null Values in PM10 in æg/m3 :-\n",
      "\n",
      "6\n"
     ]
    }
   ],
   "source": [
    "print('*'*50,'\\n')\n",
    "print('\\nTotal no. of Null Values in PM10 in æg/m3 :-\\n')\n",
    "cnt=df['PM10'].isna().sum()\n",
    "print(cnt)"
   ]
  },
  {
   "cell_type": "code",
   "execution_count": 10,
   "id": "623d0c6f",
   "metadata": {},
   "outputs": [
    {
     "name": "stdout",
     "output_type": "stream",
     "text": [
      "**************************************************\n",
      "\n",
      "Filling the NULL values in PM10 in æg/m3 :-\n",
      "\n",
      "0     174.000000\n",
      "1     143.000000\n",
      "2     142.000000\n",
      "3     117.000000\n",
      "4     109.393939\n",
      "         ...    \n",
      "67     89.000000\n",
      "68     92.000000\n",
      "69     93.000000\n",
      "70     87.000000\n",
      "71     88.000000\n",
      "Name: PM10, Length: 72, dtype: float64\n"
     ]
    }
   ],
   "source": [
    "print('*'*50)\n",
    "df['PM10'].fillna(df['PM10'].mean(), inplace=True)\n",
    "print('\\nFilling the NULL values in PM10 in æg/m3 :-\\n')\n",
    "print(df['PM10'])"
   ]
  },
  {
   "cell_type": "code",
   "execution_count": 11,
   "id": "b36aecb8",
   "metadata": {},
   "outputs": [
    {
     "name": "stdout",
     "output_type": "stream",
     "text": [
      "**************************************************\n",
      "\n",
      "Filling the NULL values in SO2 in æg/m3 :-\n",
      "\n",
      "0     26.4\n",
      "1     35.1\n",
      "2     32.1\n",
      "3     50.9\n",
      "4     41.6\n",
      "      ... \n",
      "67    12.0\n",
      "68    13.0\n",
      "69    12.0\n",
      "70    10.4\n",
      "71    13.0\n",
      "Name: SO2, Length: 72, dtype: float64\n"
     ]
    }
   ],
   "source": [
    "print('*'*50)\n",
    "print('\\nFilling the NULL values in SO2 in æg/m3 :-\\n')\n",
    "df['SO2'].fillna(df['SO2'].mean(),inplace=True)\n",
    "print(df['SO2'])"
   ]
  },
  {
   "cell_type": "code",
   "execution_count": 12,
   "id": "353325e1",
   "metadata": {},
   "outputs": [
    {
     "name": "stdout",
     "output_type": "stream",
     "text": [
      "**************************************************\n",
      "\n",
      "Filling the NULL values in NOx  in æg/m3 :-\n",
      "\n",
      "0     35.0\n",
      "1     40.3\n",
      "2     30.9\n",
      "3     36.3\n",
      "4     25.2\n",
      "      ... \n",
      "67    35.0\n",
      "68    37.3\n",
      "69    30.7\n",
      "70    28.2\n",
      "71    34.5\n",
      "Name: NOx, Length: 72, dtype: float64\n"
     ]
    }
   ],
   "source": [
    "print('*'*50)\n",
    "print('\\nFilling the NULL values in NOx  in æg/m3 :-\\n')\n",
    "df['NOx'].fillna(df['NOx'].mean(),inplace=True)\n",
    "print(df['NOx'])"
   ]
  },
  {
   "cell_type": "code",
   "execution_count": 13,
   "id": "f422b31f",
   "metadata": {},
   "outputs": [
    {
     "name": "stdout",
     "output_type": "stream",
     "text": [
      "**************************************************\n",
      "\n",
      "Filling the NULL values in AQI :-\n",
      "\n",
      "0     149.000000\n",
      "1     129.000000\n",
      "2     128.000000\n",
      "3     111.000000\n",
      "4     105.571642\n",
      "         ...    \n",
      "67     67.000000\n",
      "68     76.000000\n",
      "69    101.000000\n",
      "70    166.000000\n",
      "71    162.000000\n",
      "Name: AQI, Length: 72, dtype: float64\n"
     ]
    }
   ],
   "source": [
    "print('*'*50)\n",
    "print('\\nFilling the NULL values in AQI :-\\n')\n",
    "df['AQI'].fillna(df['AQI'].mean(),inplace=True)\n",
    "print(df['AQI'])"
   ]
  },
  {
   "cell_type": "code",
   "execution_count": 14,
   "id": "b9ac26e2",
   "metadata": {},
   "outputs": [
    {
     "name": "stdout",
     "output_type": "stream",
     "text": [
      "**************************************************\n",
      "Total no. of Duplicate Rows : \n"
     ]
    },
    {
     "data": {
      "text/plain": [
       "0"
      ]
     },
     "execution_count": 14,
     "metadata": {},
     "output_type": "execute_result"
    }
   ],
   "source": [
    "print('*'*50)\n",
    "print('Total no. of Duplicate Rows : ')\n",
    "df.duplicated().sum()"
   ]
  },
  {
   "cell_type": "code",
   "execution_count": 15,
   "id": "d20ce8a9",
   "metadata": {},
   "outputs": [
    {
     "name": "stdout",
     "output_type": "stream",
     "text": [
      "**************************************************\n"
     ]
    },
    {
     "data": {
      "text/plain": [
       "Id         0\n",
       "Months     0\n",
       "PM10       0\n",
       "SO2        0\n",
       "NOx        0\n",
       "PM2.5      0\n",
       "Ammonia    0\n",
       "O3         0\n",
       "CO         0\n",
       "Benzene    0\n",
       "AQI        0\n",
       "dtype: int64"
      ]
     },
     "execution_count": 15,
     "metadata": {},
     "output_type": "execute_result"
    }
   ],
   "source": [
    "print('*'*50)\n",
    "df.isna().sum()"
   ]
  },
  {
   "cell_type": "code",
   "execution_count": 16,
   "id": "44570fea",
   "metadata": {},
   "outputs": [
    {
     "name": "stdout",
     "output_type": "stream",
     "text": [
      "**************************************************\n",
      "0\n"
     ]
    }
   ],
   "source": [
    "print('*'*50)\n",
    "df['NOx'].fillna(df['NOx'].mode()[0],inplace=True)\n",
    "print(df['NOx'].isna().sum())"
   ]
  },
  {
   "cell_type": "code",
   "execution_count": 17,
   "id": "c374e597",
   "metadata": {},
   "outputs": [
    {
     "name": "stdout",
     "output_type": "stream",
     "text": [
      "**************************************************\n",
      "0\n"
     ]
    }
   ],
   "source": [
    "print('*'*50)\n",
    "df['AQI'].fillna(df['AQI'].mode()[0],inplace=True)\n",
    "print(df['AQI'].isna().sum())"
   ]
  },
  {
   "cell_type": "code",
   "execution_count": 18,
   "id": "b4c95dbd",
   "metadata": {},
   "outputs": [
    {
     "name": "stdout",
     "output_type": "stream",
     "text": [
      "**************************************************\n"
     ]
    },
    {
     "data": {
      "text/plain": [
       "Id         0\n",
       "Months     0\n",
       "PM10       0\n",
       "SO2        0\n",
       "NOx        0\n",
       "PM2.5      0\n",
       "Ammonia    0\n",
       "O3         0\n",
       "CO         0\n",
       "Benzene    0\n",
       "AQI        0\n",
       "dtype: int64"
      ]
     },
     "execution_count": 18,
     "metadata": {},
     "output_type": "execute_result"
    }
   ],
   "source": [
    "print('*'*50)\n",
    "df.isna().sum()"
   ]
  },
  {
   "cell_type": "code",
   "execution_count": 19,
   "id": "3fab7b37",
   "metadata": {},
   "outputs": [
    {
     "name": "stdout",
     "output_type": "stream",
     "text": [
      "Printing first 10 rows of the dataset:-\n",
      "\n",
      "   Id  Months        PM10   SO2   NOx  PM2.5  Ammonia     O3   CO  Benzene  \\\n",
      "0   1  Jan-17  174.000000  26.4  35.0     79     25.0  107.6  0.9      0.7   \n",
      "1   2  Feb-17  143.000000  35.1  40.3     75     31.0  103.0  0.9      0.9   \n",
      "2   3  Mar-17  142.000000  32.1  30.9     59     26.0   80.7  0.8      0.5   \n",
      "3   4  Apr-17  117.000000  50.9  36.3     75     36.0   79.5  0.9      0.7   \n",
      "4   5  May-17  109.393939  41.6  25.2     53     28.0   70.0  0.5      0.5   \n",
      "5   6  Jun-17  109.393939  35.5  21.2     25     26.0   38.8  0.3      0.6   \n",
      "6   7  Jul-17  111.000000  38.9  21.5     29     30.0   24.4  0.3      0.7   \n",
      "7   8  Aug-17   78.000000  36.0  18.4     35     23.0   22.5  0.4      0.5   \n",
      "8   9  Sep-17   86.000000  30.0  22.3     39     20.0   35.2  0.4      0.4   \n",
      "9  10  Oct-17  146.000000  37.1  32.6     63     23.0   52.8  0.6      0.5   \n",
      "\n",
      "          AQI  \n",
      "0  149.000000  \n",
      "1  129.000000  \n",
      "2  128.000000  \n",
      "3  111.000000  \n",
      "4  105.571642  \n",
      "5  105.571642  \n",
      "6  106.700000  \n",
      "7   78.300000  \n",
      "8   86.000000  \n",
      "9  130.000000  \n"
     ]
    }
   ],
   "source": [
    "print(\"Printing first 10 rows of the dataset:-\\n\")\n",
    "print(df.head(10)) "
   ]
  },
  {
   "cell_type": "code",
   "execution_count": 20,
   "id": "4df740b1",
   "metadata": {},
   "outputs": [
    {
     "name": "stdout",
     "output_type": "stream",
     "text": [
      "**************************************************\n",
      "Total no. of Duplicate Rows : \n"
     ]
    },
    {
     "data": {
      "text/plain": [
       "0"
      ]
     },
     "execution_count": 20,
     "metadata": {},
     "output_type": "execute_result"
    }
   ],
   "source": [
    "print('*'*50)\n",
    "print('Total no. of Duplicate Rows : ')\n",
    "df.duplicated().sum()"
   ]
  },
  {
   "cell_type": "code",
   "execution_count": 21,
   "id": "b7340f42-b0e1-4d87-97f2-edb3b9a3b4bb",
   "metadata": {},
   "outputs": [
    {
     "name": "stdout",
     "output_type": "stream",
     "text": [
      "<class 'pandas.core.frame.DataFrame'>\n",
      "RangeIndex: 72 entries, 0 to 71\n",
      "Data columns (total 11 columns):\n",
      " #   Column   Non-Null Count  Dtype  \n",
      "---  ------   --------------  -----  \n",
      " 0   Id       72 non-null     int64  \n",
      " 1   Months   72 non-null     object \n",
      " 2   PM10     72 non-null     float64\n",
      " 3   SO2      72 non-null     float64\n",
      " 4   NOx      72 non-null     float64\n",
      " 5   PM2.5    72 non-null     int64  \n",
      " 6   Ammonia  72 non-null     float64\n",
      " 7   O3       72 non-null     float64\n",
      " 8   CO       72 non-null     float64\n",
      " 9   Benzene  72 non-null     float64\n",
      " 10  AQI      72 non-null     float64\n",
      "dtypes: float64(8), int64(2), object(1)\n",
      "memory usage: 6.3+ KB\n"
     ]
    }
   ],
   "source": [
    "df.info()"
   ]
  },
  {
   "cell_type": "code",
   "execution_count": 22,
   "id": "bb1a8e55-bbe0-4c2e-ae8b-86f5be214e03",
   "metadata": {},
   "outputs": [
    {
     "data": {
      "text/html": [
       "<div>\n",
       "<style scoped>\n",
       "    .dataframe tbody tr th:only-of-type {\n",
       "        vertical-align: middle;\n",
       "    }\n",
       "\n",
       "    .dataframe tbody tr th {\n",
       "        vertical-align: top;\n",
       "    }\n",
       "\n",
       "    .dataframe thead th {\n",
       "        text-align: right;\n",
       "    }\n",
       "</style>\n",
       "<table border=\"1\" class=\"dataframe\">\n",
       "  <thead>\n",
       "    <tr style=\"text-align: right;\">\n",
       "      <th></th>\n",
       "      <th>Months</th>\n",
       "      <th>PM10</th>\n",
       "      <th>SO2</th>\n",
       "      <th>NOx</th>\n",
       "      <th>PM2.5</th>\n",
       "      <th>Ammonia</th>\n",
       "      <th>O3</th>\n",
       "      <th>CO</th>\n",
       "      <th>Benzene</th>\n",
       "      <th>AQI</th>\n",
       "    </tr>\n",
       "  </thead>\n",
       "  <tbody>\n",
       "    <tr>\n",
       "      <th>0</th>\n",
       "      <td>Jan-17</td>\n",
       "      <td>174.000000</td>\n",
       "      <td>26.4</td>\n",
       "      <td>35.0</td>\n",
       "      <td>79</td>\n",
       "      <td>25.0</td>\n",
       "      <td>107.6</td>\n",
       "      <td>0.9</td>\n",
       "      <td>0.7</td>\n",
       "      <td>149.000000</td>\n",
       "    </tr>\n",
       "    <tr>\n",
       "      <th>1</th>\n",
       "      <td>Feb-17</td>\n",
       "      <td>143.000000</td>\n",
       "      <td>35.1</td>\n",
       "      <td>40.3</td>\n",
       "      <td>75</td>\n",
       "      <td>31.0</td>\n",
       "      <td>103.0</td>\n",
       "      <td>0.9</td>\n",
       "      <td>0.9</td>\n",
       "      <td>129.000000</td>\n",
       "    </tr>\n",
       "    <tr>\n",
       "      <th>2</th>\n",
       "      <td>Mar-17</td>\n",
       "      <td>142.000000</td>\n",
       "      <td>32.1</td>\n",
       "      <td>30.9</td>\n",
       "      <td>59</td>\n",
       "      <td>26.0</td>\n",
       "      <td>80.7</td>\n",
       "      <td>0.8</td>\n",
       "      <td>0.5</td>\n",
       "      <td>128.000000</td>\n",
       "    </tr>\n",
       "    <tr>\n",
       "      <th>3</th>\n",
       "      <td>Apr-17</td>\n",
       "      <td>117.000000</td>\n",
       "      <td>50.9</td>\n",
       "      <td>36.3</td>\n",
       "      <td>75</td>\n",
       "      <td>36.0</td>\n",
       "      <td>79.5</td>\n",
       "      <td>0.9</td>\n",
       "      <td>0.7</td>\n",
       "      <td>111.000000</td>\n",
       "    </tr>\n",
       "    <tr>\n",
       "      <th>4</th>\n",
       "      <td>May-17</td>\n",
       "      <td>109.393939</td>\n",
       "      <td>41.6</td>\n",
       "      <td>25.2</td>\n",
       "      <td>53</td>\n",
       "      <td>28.0</td>\n",
       "      <td>70.0</td>\n",
       "      <td>0.5</td>\n",
       "      <td>0.5</td>\n",
       "      <td>105.571642</td>\n",
       "    </tr>\n",
       "  </tbody>\n",
       "</table>\n",
       "</div>"
      ],
      "text/plain": [
       "   Months        PM10   SO2   NOx  PM2.5  Ammonia     O3   CO  Benzene  \\\n",
       "0  Jan-17  174.000000  26.4  35.0     79     25.0  107.6  0.9      0.7   \n",
       "1  Feb-17  143.000000  35.1  40.3     75     31.0  103.0  0.9      0.9   \n",
       "2  Mar-17  142.000000  32.1  30.9     59     26.0   80.7  0.8      0.5   \n",
       "3  Apr-17  117.000000  50.9  36.3     75     36.0   79.5  0.9      0.7   \n",
       "4  May-17  109.393939  41.6  25.2     53     28.0   70.0  0.5      0.5   \n",
       "\n",
       "          AQI  \n",
       "0  149.000000  \n",
       "1  129.000000  \n",
       "2  128.000000  \n",
       "3  111.000000  \n",
       "4  105.571642  "
      ]
     },
     "execution_count": 22,
     "metadata": {},
     "output_type": "execute_result"
    }
   ],
   "source": [
    "df = df.drop(\"Id\", axis = 1)\n",
    "df.head()"
   ]
  },
  {
   "cell_type": "code",
   "execution_count": 23,
   "id": "b580c172-fcf5-411a-9fb2-52a7a8867a8d",
   "metadata": {},
   "outputs": [
    {
     "data": {
      "text/html": [
       "<div>\n",
       "<style scoped>\n",
       "    .dataframe tbody tr th:only-of-type {\n",
       "        vertical-align: middle;\n",
       "    }\n",
       "\n",
       "    .dataframe tbody tr th {\n",
       "        vertical-align: top;\n",
       "    }\n",
       "\n",
       "    .dataframe thead th {\n",
       "        text-align: right;\n",
       "    }\n",
       "</style>\n",
       "<table border=\"1\" class=\"dataframe\">\n",
       "  <thead>\n",
       "    <tr style=\"text-align: right;\">\n",
       "      <th></th>\n",
       "      <th>Months</th>\n",
       "      <th>PM10</th>\n",
       "      <th>SO2</th>\n",
       "      <th>NOx</th>\n",
       "      <th>PM2.5</th>\n",
       "      <th>Ammonia</th>\n",
       "      <th>O3</th>\n",
       "      <th>CO</th>\n",
       "      <th>Benzene</th>\n",
       "      <th>AQI</th>\n",
       "      <th>month</th>\n",
       "      <th>year</th>\n",
       "    </tr>\n",
       "  </thead>\n",
       "  <tbody>\n",
       "    <tr>\n",
       "      <th>0</th>\n",
       "      <td>Jan-17</td>\n",
       "      <td>174.000000</td>\n",
       "      <td>26.4</td>\n",
       "      <td>35.0</td>\n",
       "      <td>79</td>\n",
       "      <td>25.0</td>\n",
       "      <td>107.6</td>\n",
       "      <td>0.9</td>\n",
       "      <td>0.7</td>\n",
       "      <td>149.000000</td>\n",
       "      <td>Jan</td>\n",
       "      <td>17</td>\n",
       "    </tr>\n",
       "    <tr>\n",
       "      <th>1</th>\n",
       "      <td>Feb-17</td>\n",
       "      <td>143.000000</td>\n",
       "      <td>35.1</td>\n",
       "      <td>40.3</td>\n",
       "      <td>75</td>\n",
       "      <td>31.0</td>\n",
       "      <td>103.0</td>\n",
       "      <td>0.9</td>\n",
       "      <td>0.9</td>\n",
       "      <td>129.000000</td>\n",
       "      <td>Feb</td>\n",
       "      <td>17</td>\n",
       "    </tr>\n",
       "    <tr>\n",
       "      <th>2</th>\n",
       "      <td>Mar-17</td>\n",
       "      <td>142.000000</td>\n",
       "      <td>32.1</td>\n",
       "      <td>30.9</td>\n",
       "      <td>59</td>\n",
       "      <td>26.0</td>\n",
       "      <td>80.7</td>\n",
       "      <td>0.8</td>\n",
       "      <td>0.5</td>\n",
       "      <td>128.000000</td>\n",
       "      <td>Mar</td>\n",
       "      <td>17</td>\n",
       "    </tr>\n",
       "    <tr>\n",
       "      <th>3</th>\n",
       "      <td>Apr-17</td>\n",
       "      <td>117.000000</td>\n",
       "      <td>50.9</td>\n",
       "      <td>36.3</td>\n",
       "      <td>75</td>\n",
       "      <td>36.0</td>\n",
       "      <td>79.5</td>\n",
       "      <td>0.9</td>\n",
       "      <td>0.7</td>\n",
       "      <td>111.000000</td>\n",
       "      <td>Apr</td>\n",
       "      <td>17</td>\n",
       "    </tr>\n",
       "    <tr>\n",
       "      <th>4</th>\n",
       "      <td>May-17</td>\n",
       "      <td>109.393939</td>\n",
       "      <td>41.6</td>\n",
       "      <td>25.2</td>\n",
       "      <td>53</td>\n",
       "      <td>28.0</td>\n",
       "      <td>70.0</td>\n",
       "      <td>0.5</td>\n",
       "      <td>0.5</td>\n",
       "      <td>105.571642</td>\n",
       "      <td>May</td>\n",
       "      <td>17</td>\n",
       "    </tr>\n",
       "  </tbody>\n",
       "</table>\n",
       "</div>"
      ],
      "text/plain": [
       "   Months        PM10   SO2   NOx  PM2.5  Ammonia     O3   CO  Benzene  \\\n",
       "0  Jan-17  174.000000  26.4  35.0     79     25.0  107.6  0.9      0.7   \n",
       "1  Feb-17  143.000000  35.1  40.3     75     31.0  103.0  0.9      0.9   \n",
       "2  Mar-17  142.000000  32.1  30.9     59     26.0   80.7  0.8      0.5   \n",
       "3  Apr-17  117.000000  50.9  36.3     75     36.0   79.5  0.9      0.7   \n",
       "4  May-17  109.393939  41.6  25.2     53     28.0   70.0  0.5      0.5   \n",
       "\n",
       "          AQI month year  \n",
       "0  149.000000   Jan   17  \n",
       "1  129.000000   Feb   17  \n",
       "2  128.000000   Mar   17  \n",
       "3  111.000000   Apr   17  \n",
       "4  105.571642   May   17  "
      ]
     },
     "execution_count": 23,
     "metadata": {},
     "output_type": "execute_result"
    }
   ],
   "source": [
    "df[['month', 'year']] = df['Months'].str.split(\"-\", expand = True)\n",
    "df.head()"
   ]
  },
  {
   "cell_type": "code",
   "execution_count": 24,
   "id": "8016f7f1-3f15-44b0-9b5c-1a21d429988d",
   "metadata": {},
   "outputs": [
    {
     "data": {
      "text/plain": [
       "PM10       float64\n",
       "SO2        float64\n",
       "NOx        float64\n",
       "PM2.5        int64\n",
       "Ammonia    float64\n",
       "O3         float64\n",
       "CO         float64\n",
       "Benzene    float64\n",
       "AQI        float64\n",
       "dtype: object"
      ]
     },
     "execution_count": 24,
     "metadata": {},
     "output_type": "execute_result"
    }
   ],
   "source": [
    "df.select_dtypes(exclude='object').dtypes"
   ]
  },
  {
   "cell_type": "code",
   "execution_count": 25,
   "id": "f1b9749e-9ee6-4e5e-8ee8-4ef0248bd230",
   "metadata": {},
   "outputs": [
    {
     "data": {
      "text/plain": [
       "Months    object\n",
       "month     object\n",
       "year      object\n",
       "dtype: object"
      ]
     },
     "execution_count": 25,
     "metadata": {},
     "output_type": "execute_result"
    }
   ],
   "source": [
    "df.select_dtypes(include='object').dtypes"
   ]
  }
 ],
 "metadata": {
  "kernelspec": {
   "display_name": "Python 3 (ipykernel)",
   "language": "python",
   "name": "python3"
  },
  "language_info": {
   "codemirror_mode": {
    "name": "ipython",
    "version": 3
   },
   "file_extension": ".py",
   "mimetype": "text/x-python",
   "name": "python",
   "nbconvert_exporter": "python",
   "pygments_lexer": "ipython3",
   "version": "3.10.1"
  }
 },
 "nbformat": 4,
 "nbformat_minor": 5
}
