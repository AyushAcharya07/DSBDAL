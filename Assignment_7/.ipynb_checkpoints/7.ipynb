{
 "cells": [
  {
   "cell_type": "code",
   "execution_count": 1,
   "id": "1dfb6f12-9c25-4bab-ab4b-35ac4daad078",
   "metadata": {},
   "outputs": [],
   "source": [
    "import nltk\n",
    "from nltk.tokenize import word_tokenize,sent_tokenize\n",
    "from nltk.stem import PorterStemmer,WordNetLemmatizer\n",
    "from nltk import pos_tag\n",
    "from nltk.corpus import stopwords"
   ]
  },
  {
   "cell_type": "code",
   "execution_count": 3,
   "id": "07030bca-32b6-44bc-8003-817e2587be45",
   "metadata": {},
   "outputs": [],
   "source": [
    "documentA=\"Jupiter is the largest Planet\"\n",
    "documentB=\"Mars is the fourth planet from the Sun\""
   ]
  },
  {
   "cell_type": "code",
   "execution_count": 4,
   "id": "e5549761-51e1-4d81-9465-c7979b93835b",
   "metadata": {},
   "outputs": [
    {
     "name": "stdout",
     "output_type": "stream",
     "text": [
      "['Jupiter', 'is', 'the', 'largest', 'Planet'] \n",
      " ['Mars', 'is', 'the', 'fourth', 'planet', 'from', 'the', 'Sun']\n"
     ]
    }
   ],
   "source": [
    "tokensA=word_tokenize(documentA)\n",
    "tokensB=word_tokenize(documentB)\n",
    "print(tokensA,\"\\n\",tokensB)"
   ]
  },
  {
   "cell_type": "code",
   "execution_count": 6,
   "id": "c1363f05-0022-4dc1-8cd4-346d8efff545",
   "metadata": {},
   "outputs": [
    {
     "name": "stdout",
     "output_type": "stream",
     "text": [
      "['Jupiter', 'largest', 'Planet']\n",
      "['Mars', 'fourth', 'planet', 'Sun']\n"
     ]
    }
   ],
   "source": [
    "stop_words=set(stopwords.words(\"english\"))\n",
    "filtered_tokensA=[word for word in tokensA if word.lower() not in stop_words]\n",
    "print(filtered_tokensA)\n",
    "filtered_tokensB=[word for word in tokensB if word.lower() not in stop_words]\n",
    "print(filtered_tokensB)"
   ]
  },
  {
   "cell_type": "code",
   "execution_count": 7,
   "id": "f40b7065-f548-447d-822b-d88f1e8fd72f",
   "metadata": {},
   "outputs": [
    {
     "name": "stdout",
     "output_type": "stream",
     "text": [
      "[('Jupiter', 'NN'), ('is', 'VBZ'), ('the', 'DT'), ('largest', 'JJS'), ('Planet', 'NN')] \n",
      " [('Mars', 'NNS'), ('is', 'VBZ'), ('the', 'DT'), ('fourth', 'JJ'), ('planet', 'NN'), ('from', 'IN'), ('the', 'DT'), ('Sun', 'NNP')]\n"
     ]
    }
   ],
   "source": [
    "posA=pos_tag(tokensA)\n",
    "posB=pos_tag(tokensB)\n",
    "print(posA,\"\\n\",posB)"
   ]
  },
  {
   "cell_type": "code",
   "execution_count": 8,
   "id": "2a68a44e-2d8e-45ef-8a35-48c18b5ffc82",
   "metadata": {},
   "outputs": [
    {
     "name": "stdout",
     "output_type": "stream",
     "text": [
      "['jupit', 'largest', 'planet'] \n",
      " ['mar', 'fourth', 'planet', 'sun']\n"
     ]
    }
   ],
   "source": [
    "stemmer=PorterStemmer()\n",
    "stemmed_tokensA=[stemmer.stem(word) for word in filtered_tokensA]\n",
    "stemmed_tokensB=[stemmer.stem(word) for word in filtered_tokensB]\n",
    "print(stemmed_tokensA,\"\\n\",stemmed_tokensB)"
   ]
  },
  {
   "cell_type": "code",
   "execution_count": 9,
   "id": "d2c881c7-9756-404a-8423-895312949bf4",
   "metadata": {},
   "outputs": [
    {
     "name": "stdout",
     "output_type": "stream",
     "text": [
      "['Jupiter', 'largest', 'Planet'] \n",
      " ['Mars', 'fourth', 'planet', 'Sun']\n"
     ]
    }
   ],
   "source": [
    "lemmatizer=WordNetLemmatizer()\n",
    "lemmatized_tokensA=[lemmatizer.lemmatize(word) for word in filtered_tokensA]\n",
    "lemmatized_tokensB=[lemmatizer.lemmatize(word) for word in filtered_tokensB]\n",
    "print(lemmatized_tokensA,\"\\n\",lemmatized_tokensB)"
   ]
  },
  {
   "cell_type": "code",
   "execution_count": 13,
   "id": "c1926501-ce84-4648-83ba-dddafe5e80cf",
   "metadata": {},
   "outputs": [
    {
     "name": "stdout",
     "output_type": "stream",
     "text": [
      "Jupiter largest Planet \n",
      " Mars fourth planet Sun\n"
     ]
    }
   ],
   "source": [
    "preprocessed_textA=\" \".join(lemmatized_tokensA)\n",
    "preprocessed_textB=\" \".join(lemmatized_tokensB)\n",
    "print(preprocessed_textA,\"\\n\",preprocessed_textB)"
   ]
  },
  {
   "cell_type": "code",
   "execution_count": 17,
   "id": "726873a0-d562-46d4-9ea2-830fd211def6",
   "metadata": {},
   "outputs": [
    {
     "data": {
      "text/plain": [
       "['Jupiter', 'is', 'the', 'largest', 'Planet']"
      ]
     },
     "execution_count": 17,
     "metadata": {},
     "output_type": "execute_result"
    }
   ],
   "source": [
    "bagOfWordsA=documentA.split(\" \")\n",
    "bagOfWordsB=documentB.split(\" \")\n",
    "bagOfWordsA"
   ]
  },
  {
   "cell_type": "code",
   "execution_count": 21,
   "id": "bda61b69-1b9b-4293-af6b-2999b777840b",
   "metadata": {},
   "outputs": [
    {
     "data": {
      "text/plain": [
       "{'Jupiter',\n",
       " 'Mars',\n",
       " 'Planet',\n",
       " 'Sun',\n",
       " 'fourth',\n",
       " 'from',\n",
       " 'is',\n",
       " 'largest',\n",
       " 'planet',\n",
       " 'the'}"
      ]
     },
     "execution_count": 21,
     "metadata": {},
     "output_type": "execute_result"
    }
   ],
   "source": [
    "uniqueWords=set(bagOfWordsA).union(set(bagOfWordsB))\n",
    "uniqueWords"
   ]
  },
  {
   "cell_type": "code",
   "execution_count": 28,
   "id": "78d39466-4be6-491e-98ab-5f550d5a392c",
   "metadata": {},
   "outputs": [
    {
     "name": "stdout",
     "output_type": "stream",
     "text": [
      "{'Jupiter': 1, 'the': 1, 'planet': 0, 'largest': 1, 'Sun': 0, 'is': 1, 'from': 0, 'fourth': 0, 'Mars': 0, 'Planet': 1} \n",
      " {'Jupiter': 0, 'the': 2, 'planet': 1, 'largest': 0, 'Sun': 1, 'is': 1, 'from': 1, 'fourth': 1, 'Mars': 1, 'Planet': 0}\n"
     ]
    }
   ],
   "source": [
    "numWordsA=dict.fromkeys(uniqueWords,0)\n",
    "numWordsB=dict.fromkeys(uniqueWords,0)\n",
    "for word in bagOfWordsA:\n",
    "    numWordsA[word]+=1\n",
    "for word in bagOfWordsB:\n",
    "    numWordsB[word]+=1\n",
    "print(numWordsA,\"\\n\",numWordsB)"
   ]
  },
  {
   "cell_type": "code",
   "execution_count": 29,
   "id": "3648eddd-64a1-4dc5-a1de-cee521ecef56",
   "metadata": {},
   "outputs": [
    {
     "data": {
      "text/plain": [
       "{'Jupiter': 0.2,\n",
       " 'the': 0.2,\n",
       " 'planet': 0.0,\n",
       " 'largest': 0.2,\n",
       " 'Sun': 0.0,\n",
       " 'is': 0.2,\n",
       " 'from': 0.0,\n",
       " 'fourth': 0.0,\n",
       " 'Mars': 0.0,\n",
       " 'Planet': 0.2}"
      ]
     },
     "execution_count": 29,
     "metadata": {},
     "output_type": "execute_result"
    }
   ],
   "source": [
    "def computeTF(wordDict,bagOfWords):\n",
    "    tf={}\n",
    "    bagOfWordsCount=len(bagOfWords)\n",
    "    for word,count in wordDict.items():\n",
    "        tf[word]=count/float(bagOfWordsCount)\n",
    "    return tf\n",
    "\n",
    "tfA=computeTF(numWordsA,bagOfWordsA)\n",
    "tfB=computeTF(numWordsB,bagOfWordsB)\n",
    "tfA"
   ]
  },
  {
   "cell_type": "code",
   "execution_count": 26,
   "id": "c2a4aeb2-4ceb-401a-a21a-85dc21cb3078",
   "metadata": {},
   "outputs": [
    {
     "data": {
      "text/plain": [
       "{'Jupiter': 0.0,\n",
       " 'the': 0.25,\n",
       " 'planet': 0.125,\n",
       " 'largest': 0.0,\n",
       " 'Sun': 0.125,\n",
       " 'is': 0.125,\n",
       " 'from': 0.125,\n",
       " 'fourth': 0.125,\n",
       " 'Mars': 0.125,\n",
       " 'Planet': 0.0}"
      ]
     },
     "execution_count": 26,
     "metadata": {},
     "output_type": "execute_result"
    }
   ],
   "source": [
    "tfB"
   ]
  },
  {
   "cell_type": "code",
   "execution_count": 36,
   "id": "d2de4bb1-8ca0-4459-ab74-290b5e0cba1f",
   "metadata": {},
   "outputs": [
    {
     "data": {
      "text/plain": [
       "{'Jupiter': 0.6931471805599453,\n",
       " 'the': 0.0,\n",
       " 'planet': 0.6931471805599453,\n",
       " 'largest': 0.6931471805599453,\n",
       " 'Sun': 0.6931471805599453,\n",
       " 'is': 0.0,\n",
       " 'from': 0.6931471805599453,\n",
       " 'fourth': 0.6931471805599453,\n",
       " 'Mars': 0.6931471805599453,\n",
       " 'Planet': 0.6931471805599453}"
      ]
     },
     "execution_count": 36,
     "metadata": {},
     "output_type": "execute_result"
    }
   ],
   "source": [
    "def computeIDF(documents):\n",
    "    import math\n",
    "    N=len(documents)\n",
    "    idf=dict.fromkeys(documents[0].keys(),0)\n",
    "    for document in documents:\n",
    "        for word,value in document.items():\n",
    "            if value>0:\n",
    "                idf[word]+=1\n",
    "    for word,value in idf.items():\n",
    "        idf[word]=math.log(N/float(value))\n",
    "    return idf\n",
    "\n",
    "idfs=computeIDF([numWordsA,numWordsB])\n",
    "idfs"
   ]
  },
  {
   "cell_type": "code",
   "execution_count": 37,
   "id": "15f39e0f-4874-473b-a66c-ac4be0b6f9b3",
   "metadata": {},
   "outputs": [],
   "source": [
    "def computeTFIDF(tf,idf):\n",
    "    tfidf={}\n",
    "    for word,value in tf.items():\n",
    "        tfidf[word]=value*idf[word]\n",
    "    return tfidf\n",
    "\n",
    "tfidfA=computeTFIDF(tfA,idfs)\n",
    "tfidfB=computeTFIDF(tfB,idfs)"
   ]
  },
  {
   "cell_type": "code",
   "execution_count": 38,
   "id": "75db9866-54ea-45d9-b958-c1a2543aa68b",
   "metadata": {},
   "outputs": [],
   "source": [
    "df=pd.DataFrame([tfidfA,tfidfB])"
   ]
  },
  {
   "cell_type": "code",
   "execution_count": 39,
   "id": "873ae532-d8d6-414b-a0bb-0932870753d6",
   "metadata": {},
   "outputs": [
    {
     "data": {
      "text/html": [
       "<div>\n",
       "<style scoped>\n",
       "    .dataframe tbody tr th:only-of-type {\n",
       "        vertical-align: middle;\n",
       "    }\n",
       "\n",
       "    .dataframe tbody tr th {\n",
       "        vertical-align: top;\n",
       "    }\n",
       "\n",
       "    .dataframe thead th {\n",
       "        text-align: right;\n",
       "    }\n",
       "</style>\n",
       "<table border=\"1\" class=\"dataframe\">\n",
       "  <thead>\n",
       "    <tr style=\"text-align: right;\">\n",
       "      <th></th>\n",
       "      <th>Jupiter</th>\n",
       "      <th>the</th>\n",
       "      <th>planet</th>\n",
       "      <th>largest</th>\n",
       "      <th>Sun</th>\n",
       "      <th>is</th>\n",
       "      <th>from</th>\n",
       "      <th>fourth</th>\n",
       "      <th>Mars</th>\n",
       "      <th>Planet</th>\n",
       "    </tr>\n",
       "  </thead>\n",
       "  <tbody>\n",
       "    <tr>\n",
       "      <th>0</th>\n",
       "      <td>0.138629</td>\n",
       "      <td>0.0</td>\n",
       "      <td>0.000000</td>\n",
       "      <td>0.138629</td>\n",
       "      <td>0.000000</td>\n",
       "      <td>0.0</td>\n",
       "      <td>0.000000</td>\n",
       "      <td>0.000000</td>\n",
       "      <td>0.000000</td>\n",
       "      <td>0.138629</td>\n",
       "    </tr>\n",
       "    <tr>\n",
       "      <th>1</th>\n",
       "      <td>0.000000</td>\n",
       "      <td>0.0</td>\n",
       "      <td>0.086643</td>\n",
       "      <td>0.000000</td>\n",
       "      <td>0.086643</td>\n",
       "      <td>0.0</td>\n",
       "      <td>0.086643</td>\n",
       "      <td>0.086643</td>\n",
       "      <td>0.086643</td>\n",
       "      <td>0.000000</td>\n",
       "    </tr>\n",
       "  </tbody>\n",
       "</table>\n",
       "</div>"
      ],
      "text/plain": [
       "    Jupiter  the    planet   largest       Sun   is      from    fourth  \\\n",
       "0  0.138629  0.0  0.000000  0.138629  0.000000  0.0  0.000000  0.000000   \n",
       "1  0.000000  0.0  0.086643  0.000000  0.086643  0.0  0.086643  0.086643   \n",
       "\n",
       "       Mars    Planet  \n",
       "0  0.000000  0.138629  \n",
       "1  0.086643  0.000000  "
      ]
     },
     "execution_count": 39,
     "metadata": {},
     "output_type": "execute_result"
    }
   ],
   "source": [
    "df"
   ]
  }
 ],
 "metadata": {
  "kernelspec": {
   "display_name": "Python 3 (ipykernel)",
   "language": "python",
   "name": "python3"
  },
  "language_info": {
   "codemirror_mode": {
    "name": "ipython",
    "version": 3
   },
   "file_extension": ".py",
   "mimetype": "text/x-python",
   "name": "python",
   "nbconvert_exporter": "python",
   "pygments_lexer": "ipython3",
   "version": "3.10.1"
  }
 },
 "nbformat": 4,
 "nbformat_minor": 5
}
