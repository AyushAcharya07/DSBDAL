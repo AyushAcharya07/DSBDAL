{
 "cells": [
  {
   "cell_type": "code",
   "execution_count": 1,
   "id": "d706156d",
   "metadata": {},
   "outputs": [],
   "source": [
    "import pandas as pd\n",
    "import numpy as np\n",
    "import matplotlib.pyplot as plt\n",
    "from datetime import datetime\n",
    "import seaborn as sns\n",
    "df=pd.read_csv('Customers.csv')\n",
    "df = df[df[\"Age\"]>18]"
   ]
  },
  {
   "cell_type": "code",
   "execution_count": 2,
   "id": "17b76b64",
   "metadata": {},
   "outputs": [
    {
     "data": {
      "text/html": [
       "<div>\n",
       "<style scoped>\n",
       "    .dataframe tbody tr th:only-of-type {\n",
       "        vertical-align: middle;\n",
       "    }\n",
       "\n",
       "    .dataframe tbody tr th {\n",
       "        vertical-align: top;\n",
       "    }\n",
       "\n",
       "    .dataframe thead th {\n",
       "        text-align: right;\n",
       "    }\n",
       "</style>\n",
       "<table border=\"1\" class=\"dataframe\">\n",
       "  <thead>\n",
       "    <tr style=\"text-align: right;\">\n",
       "      <th></th>\n",
       "      <th>CustomerID</th>\n",
       "      <th>Gender</th>\n",
       "      <th>Age</th>\n",
       "      <th>Annual Income ($)</th>\n",
       "      <th>Spending Score (1-100)</th>\n",
       "      <th>Profession</th>\n",
       "      <th>Work Experience</th>\n",
       "      <th>Family Size</th>\n",
       "    </tr>\n",
       "  </thead>\n",
       "  <tbody>\n",
       "    <tr>\n",
       "      <th>0</th>\n",
       "      <td>1</td>\n",
       "      <td>Male</td>\n",
       "      <td>19</td>\n",
       "      <td>15000</td>\n",
       "      <td>39</td>\n",
       "      <td>Healthcare</td>\n",
       "      <td>1</td>\n",
       "      <td>4</td>\n",
       "    </tr>\n",
       "    <tr>\n",
       "      <th>1</th>\n",
       "      <td>2</td>\n",
       "      <td>Male</td>\n",
       "      <td>21</td>\n",
       "      <td>35000</td>\n",
       "      <td>81</td>\n",
       "      <td>Engineer</td>\n",
       "      <td>3</td>\n",
       "      <td>3</td>\n",
       "    </tr>\n",
       "    <tr>\n",
       "      <th>2</th>\n",
       "      <td>3</td>\n",
       "      <td>Female</td>\n",
       "      <td>20</td>\n",
       "      <td>86000</td>\n",
       "      <td>6</td>\n",
       "      <td>Engineer</td>\n",
       "      <td>1</td>\n",
       "      <td>1</td>\n",
       "    </tr>\n",
       "    <tr>\n",
       "      <th>3</th>\n",
       "      <td>4</td>\n",
       "      <td>Female</td>\n",
       "      <td>23</td>\n",
       "      <td>59000</td>\n",
       "      <td>77</td>\n",
       "      <td>Lawyer</td>\n",
       "      <td>0</td>\n",
       "      <td>2</td>\n",
       "    </tr>\n",
       "    <tr>\n",
       "      <th>4</th>\n",
       "      <td>5</td>\n",
       "      <td>Female</td>\n",
       "      <td>31</td>\n",
       "      <td>38000</td>\n",
       "      <td>40</td>\n",
       "      <td>Entertainment</td>\n",
       "      <td>2</td>\n",
       "      <td>6</td>\n",
       "    </tr>\n",
       "  </tbody>\n",
       "</table>\n",
       "</div>"
      ],
      "text/plain": [
       "   CustomerID  Gender  Age  Annual Income ($)  Spending Score (1-100)  \\\n",
       "0           1    Male   19              15000                      39   \n",
       "1           2    Male   21              35000                      81   \n",
       "2           3  Female   20              86000                       6   \n",
       "3           4  Female   23              59000                      77   \n",
       "4           5  Female   31              38000                      40   \n",
       "\n",
       "      Profession  Work Experience  Family Size  \n",
       "0     Healthcare                1            4  \n",
       "1       Engineer                3            3  \n",
       "2       Engineer                1            1  \n",
       "3         Lawyer                0            2  \n",
       "4  Entertainment                2            6  "
      ]
     },
     "execution_count": 2,
     "metadata": {},
     "output_type": "execute_result"
    }
   ],
   "source": [
    "df.head()"
   ]
  },
  {
   "cell_type": "code",
   "execution_count": 16,
   "id": "372b5e9f",
   "metadata": {},
   "outputs": [
    {
     "data": {
      "text/plain": [
       "CustomerID         0\n",
       "Gender             0\n",
       "Age                0\n",
       "Annual_Income      0\n",
       "Profession         0\n",
       "Work Experience    0\n",
       "Family Size        0\n",
       "dtype: int64"
      ]
     },
     "execution_count": 16,
     "metadata": {},
     "output_type": "execute_result"
    }
   ],
   "source": [
    "df.isna().sum()"
   ]
  },
  {
   "cell_type": "code",
   "execution_count": 4,
   "id": "19c4112d",
   "metadata": {},
   "outputs": [
    {
     "data": {
      "text/plain": [
       "CustomerID                 int64\n",
       "Gender                    object\n",
       "Age                        int64\n",
       "Annual Income ($)          int64\n",
       "Spending Score (1-100)     int64\n",
       "Profession                object\n",
       "Work Experience            int64\n",
       "Family Size                int64\n",
       "dtype: object"
      ]
     },
     "execution_count": 4,
     "metadata": {},
     "output_type": "execute_result"
    }
   ],
   "source": [
    "df.dtypes"
   ]
  },
  {
   "cell_type": "code",
   "execution_count": 17,
   "id": "0d610c37",
   "metadata": {},
   "outputs": [
    {
     "data": {
      "text/plain": [
       "(1615, 7)"
      ]
     },
     "execution_count": 17,
     "metadata": {},
     "output_type": "execute_result"
    }
   ],
   "source": [
    "df.shape"
   ]
  },
  {
   "cell_type": "code",
   "execution_count": 18,
   "id": "de9e6955",
   "metadata": {},
   "outputs": [
    {
     "data": {
      "text/plain": [
       "11305"
      ]
     },
     "execution_count": 18,
     "metadata": {},
     "output_type": "execute_result"
    }
   ],
   "source": [
    "df.size"
   ]
  },
  {
   "cell_type": "code",
   "execution_count": 19,
   "id": "f4e34c18",
   "metadata": {},
   "outputs": [
    {
     "data": {
      "text/html": [
       "<div>\n",
       "<style scoped>\n",
       "    .dataframe tbody tr th:only-of-type {\n",
       "        vertical-align: middle;\n",
       "    }\n",
       "\n",
       "    .dataframe tbody tr th {\n",
       "        vertical-align: top;\n",
       "    }\n",
       "\n",
       "    .dataframe thead th {\n",
       "        text-align: right;\n",
       "    }\n",
       "</style>\n",
       "<table border=\"1\" class=\"dataframe\">\n",
       "  <thead>\n",
       "    <tr style=\"text-align: right;\">\n",
       "      <th></th>\n",
       "      <th>CustomerID</th>\n",
       "      <th>Age</th>\n",
       "      <th>Annual_Income</th>\n",
       "      <th>Work Experience</th>\n",
       "      <th>Family Size</th>\n",
       "    </tr>\n",
       "  </thead>\n",
       "  <tbody>\n",
       "    <tr>\n",
       "      <th>count</th>\n",
       "      <td>1615.000000</td>\n",
       "      <td>1615.000000</td>\n",
       "      <td>1615.000000</td>\n",
       "      <td>1615.000000</td>\n",
       "      <td>1615.000000</td>\n",
       "    </tr>\n",
       "    <tr>\n",
       "      <th>mean</th>\n",
       "      <td>981.018576</td>\n",
       "      <td>57.527554</td>\n",
       "      <td>108863.255108</td>\n",
       "      <td>4.002477</td>\n",
       "      <td>3.744272</td>\n",
       "    </tr>\n",
       "    <tr>\n",
       "      <th>std</th>\n",
       "      <td>585.618623</td>\n",
       "      <td>23.593818</td>\n",
       "      <td>46270.555187</td>\n",
       "      <td>3.886078</td>\n",
       "      <td>1.954784</td>\n",
       "    </tr>\n",
       "    <tr>\n",
       "      <th>min</th>\n",
       "      <td>1.000000</td>\n",
       "      <td>19.000000</td>\n",
       "      <td>0.000000</td>\n",
       "      <td>0.000000</td>\n",
       "      <td>1.000000</td>\n",
       "    </tr>\n",
       "    <tr>\n",
       "      <th>25%</th>\n",
       "      <td>468.500000</td>\n",
       "      <td>36.000000</td>\n",
       "      <td>72720.500000</td>\n",
       "      <td>1.000000</td>\n",
       "      <td>2.000000</td>\n",
       "    </tr>\n",
       "    <tr>\n",
       "      <th>50%</th>\n",
       "      <td>988.000000</td>\n",
       "      <td>57.000000</td>\n",
       "      <td>106633.000000</td>\n",
       "      <td>3.000000</td>\n",
       "      <td>4.000000</td>\n",
       "    </tr>\n",
       "    <tr>\n",
       "      <th>75%</th>\n",
       "      <td>1480.500000</td>\n",
       "      <td>78.500000</td>\n",
       "      <td>148216.000000</td>\n",
       "      <td>7.000000</td>\n",
       "      <td>5.000000</td>\n",
       "    </tr>\n",
       "    <tr>\n",
       "      <th>max</th>\n",
       "      <td>2000.000000</td>\n",
       "      <td>99.000000</td>\n",
       "      <td>189974.000000</td>\n",
       "      <td>17.000000</td>\n",
       "      <td>9.000000</td>\n",
       "    </tr>\n",
       "  </tbody>\n",
       "</table>\n",
       "</div>"
      ],
      "text/plain": [
       "        CustomerID          Age  Annual_Income  Work Experience  Family Size\n",
       "count  1615.000000  1615.000000    1615.000000      1615.000000  1615.000000\n",
       "mean    981.018576    57.527554  108863.255108         4.002477     3.744272\n",
       "std     585.618623    23.593818   46270.555187         3.886078     1.954784\n",
       "min       1.000000    19.000000       0.000000         0.000000     1.000000\n",
       "25%     468.500000    36.000000   72720.500000         1.000000     2.000000\n",
       "50%     988.000000    57.000000  106633.000000         3.000000     4.000000\n",
       "75%    1480.500000    78.500000  148216.000000         7.000000     5.000000\n",
       "max    2000.000000    99.000000  189974.000000        17.000000     9.000000"
      ]
     },
     "execution_count": 19,
     "metadata": {},
     "output_type": "execute_result"
    }
   ],
   "source": [
    "df.describe()"
   ]
  },
  {
   "cell_type": "code",
   "execution_count": 21,
   "id": "782a19dc",
   "metadata": {},
   "outputs": [
    {
     "data": {
      "text/html": [
       "<div>\n",
       "<style scoped>\n",
       "    .dataframe tbody tr th:only-of-type {\n",
       "        vertical-align: middle;\n",
       "    }\n",
       "\n",
       "    .dataframe tbody tr th {\n",
       "        vertical-align: top;\n",
       "    }\n",
       "\n",
       "    .dataframe thead th {\n",
       "        text-align: right;\n",
       "    }\n",
       "</style>\n",
       "<table border=\"1\" class=\"dataframe\">\n",
       "  <thead>\n",
       "    <tr style=\"text-align: right;\">\n",
       "      <th></th>\n",
       "      <th>CustomerID</th>\n",
       "      <th>Gender</th>\n",
       "      <th>Age</th>\n",
       "      <th>Annual_Income</th>\n",
       "      <th>Profession</th>\n",
       "      <th>Work Experience</th>\n",
       "      <th>Family Size</th>\n",
       "    </tr>\n",
       "  </thead>\n",
       "  <tbody>\n",
       "    <tr>\n",
       "      <th>0</th>\n",
       "      <td>1</td>\n",
       "      <td>Male</td>\n",
       "      <td>19</td>\n",
       "      <td>15000</td>\n",
       "      <td>Healthcare</td>\n",
       "      <td>1</td>\n",
       "      <td>4</td>\n",
       "    </tr>\n",
       "    <tr>\n",
       "      <th>1</th>\n",
       "      <td>2</td>\n",
       "      <td>Male</td>\n",
       "      <td>21</td>\n",
       "      <td>35000</td>\n",
       "      <td>Engineer</td>\n",
       "      <td>3</td>\n",
       "      <td>3</td>\n",
       "    </tr>\n",
       "    <tr>\n",
       "      <th>2</th>\n",
       "      <td>3</td>\n",
       "      <td>Female</td>\n",
       "      <td>20</td>\n",
       "      <td>86000</td>\n",
       "      <td>Engineer</td>\n",
       "      <td>1</td>\n",
       "      <td>1</td>\n",
       "    </tr>\n",
       "    <tr>\n",
       "      <th>3</th>\n",
       "      <td>4</td>\n",
       "      <td>Female</td>\n",
       "      <td>23</td>\n",
       "      <td>59000</td>\n",
       "      <td>Lawyer</td>\n",
       "      <td>0</td>\n",
       "      <td>2</td>\n",
       "    </tr>\n",
       "    <tr>\n",
       "      <th>4</th>\n",
       "      <td>5</td>\n",
       "      <td>Female</td>\n",
       "      <td>31</td>\n",
       "      <td>38000</td>\n",
       "      <td>Entertainment</td>\n",
       "      <td>2</td>\n",
       "      <td>6</td>\n",
       "    </tr>\n",
       "  </tbody>\n",
       "</table>\n",
       "</div>"
      ],
      "text/plain": [
       "   CustomerID  Gender  Age  Annual_Income     Profession  Work Experience  \\\n",
       "0           1    Male   19          15000     Healthcare                1   \n",
       "1           2    Male   21          35000       Engineer                3   \n",
       "2           3  Female   20          86000       Engineer                1   \n",
       "3           4  Female   23          59000         Lawyer                0   \n",
       "4           5  Female   31          38000  Entertainment                2   \n",
       "\n",
       "   Family Size  \n",
       "0            4  \n",
       "1            3  \n",
       "2            1  \n",
       "3            2  \n",
       "4            6  "
      ]
     },
     "execution_count": 21,
     "metadata": {},
     "output_type": "execute_result"
    }
   ],
   "source": [
    "df.rename(columns={\"Annual Income ($)\":\"Annual_Income\"},inplace=True)\n",
    "#df.drop(['Spending Score (1-100)'], axis=1, inplace=True)\n",
    "df.head()"
   ]
  },
  {
   "cell_type": "code",
   "execution_count": 22,
   "id": "7fc0588d-34ba-4c4e-b9c9-772cca6ccb08",
   "metadata": {},
   "outputs": [
    {
     "data": {
      "text/plain": [
       "0"
      ]
     },
     "execution_count": 22,
     "metadata": {},
     "output_type": "execute_result"
    }
   ],
   "source": [
    "df.dropna(subset=['Profession'], inplace=True)\n",
    "df['Profession'].isna().sum()"
   ]
  },
  {
   "cell_type": "code",
   "execution_count": 28,
   "id": "aa49ee54",
   "metadata": {},
   "outputs": [
    {
     "name": "stdout",
     "output_type": "stream",
     "text": [
      "Mean Age is :  57.527554179566565\n",
      "\n",
      " **************************************************\n",
      "Modal value of Age is :  31\n",
      "\n",
      " **************************************************\n",
      "Median value of Age is :  57.0\n",
      "\n",
      " **************************************************\n",
      "Minimum value of Age is :  19\n",
      "\n",
      " **************************************************\n",
      "Maximum value of Age is :  99\n",
      "\n",
      " **************************************************\n",
      "Standard Deviation of Age is :  23.593817630547306\n"
     ]
    }
   ],
   "source": [
    "age_mean=df['Age'].mean()\n",
    "print(\"Mean Age is : \",age_mean)\n",
    "print(\"\\n\",\"*\"*50)\n",
    "age_mode = df['Age'].mode().values[0]\n",
    "print(\"Modal value of Age is : \",age_mode)\n",
    "print(\"\\n\",\"*\"*50)\n",
    "age_median = df['Age'].median()\n",
    "print(\"Median value of Age is : \",age_median)\n",
    "print(\"\\n\",\"*\"*50)\n",
    "age_min=df['Age'].min()\n",
    "print(\"Minimum value of Age is : \",age_min)\n",
    "print(\"\\n\",\"*\"*50)\n",
    "age_max=df['Age'].max()\n",
    "print(\"Maximum value of Age is : \",age_max)\n",
    "print(\"\\n\",\"*\"*50)\n",
    "age_std=df['Age'].std()\n",
    "print(\"Standard Deviation of Age is : \",age_std)"
   ]
  },
  {
   "cell_type": "code",
   "execution_count": 29,
   "id": "725adab2",
   "metadata": {},
   "outputs": [
    {
     "name": "stdout",
     "output_type": "stream",
     "text": [
      "Mean Income is ($) :  108863.25510835914\n",
      "\n",
      " **************************************************\n",
      "Modal value of Income is ($):  4000\n",
      "\n",
      " **************************************************\n",
      "Modal value of Income is ($):  106633.0\n",
      "\n",
      " **************************************************\n",
      "Minimum value of Income is :  0\n",
      "\n",
      " **************************************************\n",
      "Maximum value of Income is :  189974\n",
      "\n",
      " **************************************************\n",
      "Standard Deviation of Income is :  46270.55518745105\n"
     ]
    }
   ],
   "source": [
    "income_mean=df['Annual_Income'].mean()\n",
    "print(\"Mean Income is ($) : \",income_mean)\n",
    "print(\"\\n\",\"*\"*50)\n",
    "income_mode=df['Annual_Income'].mode().values[0]\n",
    "print(\"Modal value of Income is ($): \",income_mode)\n",
    "print(\"\\n\",\"*\"*50)\n",
    "income_median=df['Annual_Income'].median()\n",
    "print(\"Modal value of Income is ($): \",income_median)\n",
    "print(\"\\n\",\"*\"*50)\n",
    "income_min=df['Annual_Income'].min()\n",
    "print(\"Minimum value of Income is : \",income_min)\n",
    "print(\"\\n\",\"*\"*50)\n",
    "income_max=df['Annual_Income'].max()\n",
    "print(\"Maximum value of Income is : \",income_max)\n",
    "print(\"\\n\",\"*\"*50)\n",
    "income_std=df['Annual_Income'].std()\n",
    "print(\"Standard Deviation of Income is : \",income_std)"
   ]
  },
  {
   "cell_type": "code",
   "execution_count": 106,
   "id": "992ea470",
   "metadata": {},
   "outputs": [
    {
     "data": {
      "text/html": [
       "<div>\n",
       "<style scoped>\n",
       "    .dataframe tbody tr th:only-of-type {\n",
       "        vertical-align: middle;\n",
       "    }\n",
       "\n",
       "    .dataframe tbody tr th {\n",
       "        vertical-align: top;\n",
       "    }\n",
       "\n",
       "    .dataframe thead th {\n",
       "        text-align: right;\n",
       "    }\n",
       "</style>\n",
       "<table border=\"1\" class=\"dataframe\">\n",
       "  <thead>\n",
       "    <tr style=\"text-align: right;\">\n",
       "      <th></th>\n",
       "      <th>Annual_Income</th>\n",
       "    </tr>\n",
       "    <tr>\n",
       "      <th>Gender</th>\n",
       "      <th></th>\n",
       "    </tr>\n",
       "  </thead>\n",
       "  <tbody>\n",
       "    <tr>\n",
       "      <th>Female</th>\n",
       "      <td>108519.323439</td>\n",
       "    </tr>\n",
       "    <tr>\n",
       "      <th>Male</th>\n",
       "      <td>109563.058383</td>\n",
       "    </tr>\n",
       "  </tbody>\n",
       "</table>\n",
       "</div>"
      ],
      "text/plain": [
       "        Annual_Income\n",
       "Gender               \n",
       "Female  108519.323439\n",
       "Male    109563.058383"
      ]
     },
     "execution_count": 106,
     "metadata": {},
     "output_type": "execute_result"
    }
   ],
   "source": [
    "grp1=df[[\"Gender\",\"Annual_Income\"]].groupby(\"Gender\").mean()\n",
    "grp1"
   ]
  },
  {
   "cell_type": "code",
   "execution_count": 30,
   "id": "27d8c41a",
   "metadata": {},
   "outputs": [
    {
     "data": {
      "text/html": [
       "<div>\n",
       "<style scoped>\n",
       "    .dataframe tbody tr th:only-of-type {\n",
       "        vertical-align: middle;\n",
       "    }\n",
       "\n",
       "    .dataframe tbody tr th {\n",
       "        vertical-align: top;\n",
       "    }\n",
       "\n",
       "    .dataframe thead th {\n",
       "        text-align: right;\n",
       "    }\n",
       "</style>\n",
       "<table border=\"1\" class=\"dataframe\">\n",
       "  <thead>\n",
       "    <tr style=\"text-align: right;\">\n",
       "      <th></th>\n",
       "      <th>CustomerID</th>\n",
       "      <th>Gender</th>\n",
       "      <th>Age</th>\n",
       "      <th>Annual_Income</th>\n",
       "      <th>Profession</th>\n",
       "      <th>Work Experience</th>\n",
       "      <th>Family Size</th>\n",
       "    </tr>\n",
       "  </thead>\n",
       "  <tbody>\n",
       "    <tr>\n",
       "      <th>0</th>\n",
       "      <td>1</td>\n",
       "      <td>Male</td>\n",
       "      <td>19</td>\n",
       "      <td>15000</td>\n",
       "      <td>Healthcare</td>\n",
       "      <td>1</td>\n",
       "      <td>4</td>\n",
       "    </tr>\n",
       "    <tr>\n",
       "      <th>1</th>\n",
       "      <td>2</td>\n",
       "      <td>Male</td>\n",
       "      <td>21</td>\n",
       "      <td>35000</td>\n",
       "      <td>Engineer</td>\n",
       "      <td>3</td>\n",
       "      <td>3</td>\n",
       "    </tr>\n",
       "    <tr>\n",
       "      <th>2</th>\n",
       "      <td>3</td>\n",
       "      <td>Female</td>\n",
       "      <td>20</td>\n",
       "      <td>86000</td>\n",
       "      <td>Engineer</td>\n",
       "      <td>1</td>\n",
       "      <td>1</td>\n",
       "    </tr>\n",
       "    <tr>\n",
       "      <th>3</th>\n",
       "      <td>4</td>\n",
       "      <td>Female</td>\n",
       "      <td>23</td>\n",
       "      <td>59000</td>\n",
       "      <td>Lawyer</td>\n",
       "      <td>0</td>\n",
       "      <td>2</td>\n",
       "    </tr>\n",
       "    <tr>\n",
       "      <th>4</th>\n",
       "      <td>5</td>\n",
       "      <td>Female</td>\n",
       "      <td>31</td>\n",
       "      <td>38000</td>\n",
       "      <td>Entertainment</td>\n",
       "      <td>2</td>\n",
       "      <td>6</td>\n",
       "    </tr>\n",
       "  </tbody>\n",
       "</table>\n",
       "</div>"
      ],
      "text/plain": [
       "   CustomerID  Gender  Age  Annual_Income     Profession  Work Experience  \\\n",
       "0           1    Male   19          15000     Healthcare                1   \n",
       "1           2    Male   21          35000       Engineer                3   \n",
       "2           3  Female   20          86000       Engineer                1   \n",
       "3           4  Female   23          59000         Lawyer                0   \n",
       "4           5  Female   31          38000  Entertainment                2   \n",
       "\n",
       "   Family Size  \n",
       "0            4  \n",
       "1            3  \n",
       "2            1  \n",
       "3            2  \n",
       "4            6  "
      ]
     },
     "execution_count": 30,
     "metadata": {},
     "output_type": "execute_result"
    }
   ],
   "source": [
    "df.head()"
   ]
  },
  {
   "cell_type": "code",
   "execution_count": 50,
   "id": "1bd95a0e",
   "metadata": {},
   "outputs": [
    {
     "name": "stdout",
     "output_type": "stream",
     "text": [
      "           count           mean           std     min       25%       50%  \\\n",
      "Age_Group                                                                   \n",
      "19_to_25   157.0  103653.738854  49423.625659     0.0  67447.00  101474.0   \n",
      "26_to_29    74.0  101057.027027  49354.044221  4000.0  62258.25   89507.0   \n",
      "30_to_50   446.0  103221.952915  49008.717071     0.0  66481.00   97000.0   \n",
      "Over_50    938.0  113033.378465  43689.750029  1000.0  78839.00  112810.5   \n",
      "\n",
      "                 75%       max  \n",
      "Age_Group                       \n",
      "19_to_25   146473.00  189650.0  \n",
      "26_to_29   145823.25  183201.0  \n",
      "30_to_50   145393.75  189630.0  \n",
      "Over_50    149297.75  189974.0  \n"
     ]
    },
    {
     "name": "stderr",
     "output_type": "stream",
     "text": [
      "C:\\Users\\Ayush\\AppData\\Local\\Temp\\ipykernel_7172\\1043567265.py:11: FutureWarning: The default of observed=False is deprecated and will be changed to True in a future version of pandas. Pass observed=False to retain current behavior or observed=True to adopt the future default and silence this warning.\n",
      "  summary_statistics_salary_by_age = df.groupby('Age_Group')['Annual_Income'].describe()\n"
     ]
    }
   ],
   "source": [
    "# Summary Statistics acc to Age group and salary\n",
    "\n",
    "df['Age'] = df['Age'].astype(str).astype(int)\n",
    "# Defining the age bins and labels\n",
    "bins = [18, 25, 29, 50, np.inf]\n",
    "labels = ['19_to_25', '26_to_29', '30_to_50', 'Over_50']\n",
    "df['Age_Group'] = pd.cut(df['Age'], bins=bins, labels=labels)\n",
    "\n",
    "# Filtering outthe age group'0 to 18'\n",
    "df = df[df['Age_Group'] != '0_to_18']\n",
    "\n",
    "summary_statistics_salary_by_age = df.groupby('Age_Group')['Annual_Income'].describe()\n",
    "print(summary_statistics_salary_by_age)"
   ]
  },
  {
   "cell_type": "code",
   "execution_count": 48,
   "id": "32c431fc",
   "metadata": {},
   "outputs": [
    {
     "data": {
      "text/html": [
       "<div>\n",
       "<style scoped>\n",
       "    .dataframe tbody tr th:only-of-type {\n",
       "        vertical-align: middle;\n",
       "    }\n",
       "\n",
       "    .dataframe tbody tr th {\n",
       "        vertical-align: top;\n",
       "    }\n",
       "\n",
       "    .dataframe thead th {\n",
       "        text-align: right;\n",
       "    }\n",
       "</style>\n",
       "<table border=\"1\" class=\"dataframe\">\n",
       "  <thead>\n",
       "    <tr style=\"text-align: right;\">\n",
       "      <th></th>\n",
       "      <th>CustomerID</th>\n",
       "      <th>Gender</th>\n",
       "      <th>Age</th>\n",
       "      <th>Annual_Income</th>\n",
       "      <th>Profession</th>\n",
       "      <th>Work Experience</th>\n",
       "      <th>Family Size</th>\n",
       "      <th>Age_Group</th>\n",
       "      <th>0_to_18</th>\n",
       "      <th>19_to_25</th>\n",
       "      <th>26_to_29</th>\n",
       "      <th>30_to_50</th>\n",
       "      <th>Over_50</th>\n",
       "    </tr>\n",
       "  </thead>\n",
       "  <tbody>\n",
       "    <tr>\n",
       "      <th>0</th>\n",
       "      <td>1</td>\n",
       "      <td>Male</td>\n",
       "      <td>19</td>\n",
       "      <td>15000</td>\n",
       "      <td>Healthcare</td>\n",
       "      <td>1</td>\n",
       "      <td>4</td>\n",
       "      <td>19_to_25</td>\n",
       "      <td>False</td>\n",
       "      <td>True</td>\n",
       "      <td>False</td>\n",
       "      <td>False</td>\n",
       "      <td>False</td>\n",
       "    </tr>\n",
       "    <tr>\n",
       "      <th>1</th>\n",
       "      <td>2</td>\n",
       "      <td>Male</td>\n",
       "      <td>21</td>\n",
       "      <td>35000</td>\n",
       "      <td>Engineer</td>\n",
       "      <td>3</td>\n",
       "      <td>3</td>\n",
       "      <td>19_to_25</td>\n",
       "      <td>False</td>\n",
       "      <td>True</td>\n",
       "      <td>False</td>\n",
       "      <td>False</td>\n",
       "      <td>False</td>\n",
       "    </tr>\n",
       "    <tr>\n",
       "      <th>2</th>\n",
       "      <td>3</td>\n",
       "      <td>Female</td>\n",
       "      <td>20</td>\n",
       "      <td>86000</td>\n",
       "      <td>Engineer</td>\n",
       "      <td>1</td>\n",
       "      <td>1</td>\n",
       "      <td>19_to_25</td>\n",
       "      <td>False</td>\n",
       "      <td>True</td>\n",
       "      <td>False</td>\n",
       "      <td>False</td>\n",
       "      <td>False</td>\n",
       "    </tr>\n",
       "    <tr>\n",
       "      <th>3</th>\n",
       "      <td>4</td>\n",
       "      <td>Female</td>\n",
       "      <td>23</td>\n",
       "      <td>59000</td>\n",
       "      <td>Lawyer</td>\n",
       "      <td>0</td>\n",
       "      <td>2</td>\n",
       "      <td>19_to_25</td>\n",
       "      <td>False</td>\n",
       "      <td>True</td>\n",
       "      <td>False</td>\n",
       "      <td>False</td>\n",
       "      <td>False</td>\n",
       "    </tr>\n",
       "    <tr>\n",
       "      <th>4</th>\n",
       "      <td>5</td>\n",
       "      <td>Female</td>\n",
       "      <td>31</td>\n",
       "      <td>38000</td>\n",
       "      <td>Entertainment</td>\n",
       "      <td>2</td>\n",
       "      <td>6</td>\n",
       "      <td>30_to_50</td>\n",
       "      <td>False</td>\n",
       "      <td>False</td>\n",
       "      <td>False</td>\n",
       "      <td>True</td>\n",
       "      <td>False</td>\n",
       "    </tr>\n",
       "  </tbody>\n",
       "</table>\n",
       "</div>"
      ],
      "text/plain": [
       "   CustomerID  Gender  Age  Annual_Income     Profession  Work Experience  \\\n",
       "0           1    Male   19          15000     Healthcare                1   \n",
       "1           2    Male   21          35000       Engineer                3   \n",
       "2           3  Female   20          86000       Engineer                1   \n",
       "3           4  Female   23          59000         Lawyer                0   \n",
       "4           5  Female   31          38000  Entertainment                2   \n",
       "\n",
       "   Family Size Age_Group  0_to_18  19_to_25  26_to_29  30_to_50  Over_50  \n",
       "0            4  19_to_25    False      True     False     False    False  \n",
       "1            3  19_to_25    False      True     False     False    False  \n",
       "2            1  19_to_25    False      True     False     False    False  \n",
       "3            2  19_to_25    False      True     False     False    False  \n",
       "4            6  30_to_50    False     False     False      True    False  "
      ]
     },
     "execution_count": 48,
     "metadata": {},
     "output_type": "execute_result"
    }
   ],
   "source": [
    "# Summary Statistics acc to Age group and salary\n",
    "df.head()"
   ]
  },
  {
   "cell_type": "code",
   "execution_count": 47,
   "id": "f0467970",
   "metadata": {},
   "outputs": [
    {
     "name": "stdout",
     "output_type": "stream",
     "text": [
      "     count           mean           std      min        25%       50%  \\\n",
      "Age                                                                     \n",
      "19    24.0   95037.833333  60003.371634   2000.0   50750.00   84154.0   \n",
      "20    27.0  121137.592593  35769.944085  59844.0   90524.00  113767.0   \n",
      "21    23.0  102936.260870  54460.865931   5000.0   60985.00  104888.0   \n",
      "22    17.0  113785.117647  46510.829338  51000.0   64707.00  107941.0   \n",
      "23    23.0   91086.173913  48936.118622      0.0   65320.50   84793.0   \n",
      "..     ...            ...           ...      ...        ...       ...   \n",
      "95    19.0  108909.631579  44182.295683  50223.0   71087.00   91352.0   \n",
      "96    22.0  115824.272727  43169.135795   1000.0   93501.25  112052.0   \n",
      "97    22.0  131496.454545  35559.148677  66312.0  106632.25  131529.0   \n",
      "98     9.0  102939.444444  34981.644266  51866.0   87878.00  104249.0   \n",
      "99    16.0  127168.187500  48352.750183  55972.0   78966.25  144976.5   \n",
      "\n",
      "           75%       max  \n",
      "Age                       \n",
      "19   138828.50  189498.0  \n",
      "20   147498.50  189650.0  \n",
      "21   154518.00  187761.0  \n",
      "22   159296.00  184443.0  \n",
      "23   125341.50  186723.0  \n",
      "..         ...       ...  \n",
      "95   148108.00  178228.0  \n",
      "96   136148.75  186882.0  \n",
      "97   164871.50  183783.0  \n",
      "98   125181.00  167197.0  \n",
      "99   166809.75  184426.0  \n",
      "\n",
      "[81 rows x 8 columns]\n",
      "List of age groups: [19, 21, 20, 23, 31, 22, 35, 64, 30, 67, 58, 24, 37, 52, 25, 46, 54, 29, 45, 40, 60, 53, 49, 42, 36, 65, 48, 50, 27, 33, 59, 47, 51, 69, 70, 63, 43, 68, 32, 26, 57, 38, 55, 34, 66, 39, 44, 28, 56, 41, 76, 62, 80, 86, 79, 83, 95, 93, 78, 84, 91, 92, 77, 89, 94, 96, 74, 85, 73, 90, 61, 72, 75, 99, 88, 82, 87, 97, 81, 98, 71]\n"
     ]
    }
   ],
   "source": [
    "# Summary Statistics acc to Age and salary\n",
    "\n",
    "numeric_variable = 'Annual_Income'\n",
    "categorical_variable = 'Age'\n",
    "summary_statistics_salary_by_age = df.groupby(categorical_variable)[numeric_variable].describe()\n",
    "print(summary_statistics_salary_by_age)\n",
    "age_groups = df[categorical_variable].unique().tolist()\n",
    "print(\"List of age groups:\", age_groups)"
   ]
  },
  {
   "cell_type": "code",
   "execution_count": 53,
   "id": "9d654f9f-04ef-43a9-b980-c1170b73bfd5",
   "metadata": {},
   "outputs": [
    {
     "name": "stdout",
     "output_type": "stream",
     "text": [
      "        count           mean           std     min      25%       50%  \\\n",
      "Gender                                                                  \n",
      "Female  962.0  108502.678794  46478.049051  1000.0  71000.0  108609.5   \n",
      "Male    653.0  109394.456355  45993.566467     0.0  75961.0  104582.0   \n",
      "\n",
      "              75%       max  \n",
      "Gender                       \n",
      "Female  146946.75  189974.0  \n",
      "Male    148875.00  189945.0  \n"
     ]
    }
   ],
   "source": [
    "# Summary Statistics acc to Gender and salary\n",
    "\n",
    "gender_groups = ['Male', 'Female']\n",
    "summary_statistics_salary_by_gender = df.groupby('Gender')['Annual_Income'].describe()\n",
    "print(summary_statistics_salary_by_gender)"
   ]
  },
  {
   "cell_type": "code",
   "execution_count": 60,
   "id": "de100c9f",
   "metadata": {},
   "outputs": [
    {
     "data": {
      "image/png": "[encoded data removed]",
      "text/plain": [
       "<Figure size 640x480 with 1 Axes>"
      ]
     },
     "metadata": {},
     "output_type": "display_data"
    }
   ],
   "source": [
    "df['Age_Group'] = pd.cut(df['Age'], bins=bins, labels=labels)\n",
    "age_group_counts = df['Age_Group'].value_counts().reset_index()\n",
    "age_group_counts.columns = ['Age_Group', 'Count']\n",
    "age_group_counts = age_group_counts.sort_values(by='Age_Group')\n",
    "\n",
    "plt.bar(age_group_counts['Age_Group'], age_group_counts['Count'], color=\"#6495ED\")\n",
    "plt.xlabel(\"Age Group\")\n",
    "plt.ylabel(\"Count of Customers\")\n",
    "plt.title(\"Customers By Age Group\")\n",
    "plt.show()"
   ]
  },
  {
   "cell_type": "code",
   "execution_count": 61,
   "id": "1e72263d",
   "metadata": {},
   "outputs": [
    {
     "data": {
      "image/png": "[encoded data removed]",
      "text/plain": [
       "<Figure size 640x480 with 1 Axes>"
      ]
     },
     "metadata": {},
     "output_type": "display_data"
    }
   ],
   "source": [
    "gender_data = df [\"Gender\"]\n",
    "colors = 'lightblue'\n",
    "sns.histplot (gender_data, color=colors)\n",
    "plt.title(\"Histogram of Gender Distribution\")\n",
    "plt.show()"
   ]
  },
  {
   "cell_type": "code",
   "execution_count": 64,
   "id": "91222fd2",
   "metadata": {},
   "outputs": [
    {
     "name": "stderr",
     "output_type": "stream",
     "text": [
      "C:\\Users\\Ayush\\AppData\\Local\\Temp\\ipykernel_7172\\1464285737.py:2: FutureWarning: The default of observed=False is deprecated and will be changed to True in a future version of pandas. Pass observed=False to retain current behavior or observed=True to adopt the future default and silence this warning.\n",
      "  mf_counts = df.groupby([\"Gender\", \"Age_Group\"]).size().reset_index(name=\"Count\")\n"
     ]
    },
    {
     "data": {
      "image/png": "[encoded data removed]",
      "text/plain": [
       "<Figure size 1200x600 with 1 Axes>"
      ]
     },
     "metadata": {},
     "output_type": "display_data"
    }
   ],
   "source": [
    "df['Age_Group'] = pd.cut(df['Age'], bins=bins, labels=labels)\n",
    "mf_counts = df.groupby([\"Gender\", \"Age_Group\"]).size().reset_index(name=\"Count\")\n",
    "\n",
    "plt.figure(figsize=(12, 6))\n",
    "sns.barplot(data=mf_counts, x=\"Age_Group\", y=\"Count\", hue=\"Gender\")\n",
    "plt.xlabel(\"Age Group\")\n",
    "plt.ylabel(\"Count\")\n",
    "plt.title(\"Gender-wise Customer Count by Age Group\")\n",
    "plt.xticks(rotation=45)\n",
    "plt.show()"
   ]
  }
 ],
 "metadata": {
  "kernelspec": {
   "display_name": "Python 3 (ipykernel)",
   "language": "python",
   "name": "python3"
  },
  "language_info": {
   "codemirror_mode": {
    "name": "ipython",
    "version": 3
   },
   "file_extension": ".py",
   "mimetype": "text/x-python",
   "name": "python",
   "nbconvert_exporter": "python",
   "pygments_lexer": "ipython3",
   "version": "3.10.1"
  }
 },
 "nbformat": 4,
 "nbformat_minor": 5
}
